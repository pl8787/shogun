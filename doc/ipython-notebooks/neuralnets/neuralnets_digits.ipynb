{
 "metadata": {
  "name": "neuralnets_digits"
 },
 "nbformat": 3,
 "nbformat_minor": 0,
 "worksheets": [
  {
   "cells": [
    {
     "cell_type": "markdown",
     "metadata": {},
     "source": [
      "#Neural Networks for digit classification\n",
      "##by Khaled Nasr\n"
     ]
    },
    {
     "cell_type": "markdown",
     "metadata": {},
     "source": [
      "This notebook illustrates how to use the NeuralNets module for digit classification. We'll use the USPS dataset of handwritten digits to train and test a neural network."
     ]
    },
    {
     "cell_type": "code",
     "collapsed": false,
     "input": [
      "import numpy as np\n",
      "from scipy.io import loadmat\n",
      "from modshogun import*\n",
      "\n",
      "# load the dataset\n",
      "dataset = loadmat('../../../data/multiclass/usps.mat')\n",
      "\n",
      "Xall = dataset['data']\n",
      "# the usps dataset has the digits labeled from 1 to 10 \n",
      "# we'll subtract 1 to make them in the 0-9 range instead\n",
      "Yall = np.array(dataset['label'].squeeze(), dtype=np.double)-1 \n",
      "\n",
      "# use the first 5000 examples for training, the rest will be used for testing\n",
      "Xtrain = RealFeatures(Xall[:,0:5000])\n",
      "Ytrain = MulticlassLabels(Yall[0:5000])\n",
      "Xtest = RealFeatures(Xall[:,5001:-1])\n",
      "Ytest = MulticlassLabels(Yall[5001:-1])\n",
      "\n",
      "# setup the network's layers\n",
      "layers = DynamicObjectArray()\n",
      "layers.append_element(NeuralLogisticLayer(50)) # 50 neurons in the hidden layer\n",
      "layers.append_element(NeuralLogisticLayer(10)) # 10 neurons in the output layer\n",
      "\n",
      "# create the network\n",
      "net = NeuralNetwork()\n",
      "net.initialize(256, layers) # 256 inputs, one for each pixel (images in the dataset are 16*16 pixels)\n",
      "\n",
      "# set training parameters\n",
      "net.l2_coefficient = 0.001\n",
      "\n",
      "# train the network\n",
      "net.set_labels(Ytrain)\n",
      "net.train(Xtrain)\n",
      "\n",
      "# test the network\n",
      "predictions = net.apply_multiclass(Xtest)\n",
      "evaluator = MulticlassAccuracy()\n",
      "accuracy = evaluator.evaluate(predictions, Ytest)\n",
      "\n",
      "print \"Accuracy on the test set =\", accuracy * 100"
     ],
     "language": "python",
     "metadata": {},
     "outputs": []
    },
    {
     "cell_type": "code",
     "collapsed": false,
     "input": [],
     "language": "python",
     "metadata": {},
     "outputs": []
    }
   ],
   "metadata": {}
  }
 ]
}